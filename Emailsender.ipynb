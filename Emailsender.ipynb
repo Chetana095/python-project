{
 "cells": [
  {
   "cell_type": "code",
   "execution_count": 1,
   "id": "d09eceb9-d28d-487e-93f8-40ffc7d21927",
   "metadata": {},
   "outputs": [
    {
     "name": "stdout",
     "output_type": "stream",
     "text": [
      "Successfully the mail is sent\n"
     ]
    },
    {
     "data": {
      "text/plain": [
       "(221, b'2.0.0 closing connection q6sm1529372pfk.144 - gsmtp')"
      ]
     },
     "execution_count": 1,
     "metadata": {},
     "output_type": "execute_result"
    }
   ],
   "source": [
    "import smtplib\n",
    "sender_add='tanupatil331@gmail.com'\n",
    "receiver_add='chetanap1804@gmail.com'\n",
    "password='3GF13IS027'\n",
    "\n",
    "#SMTP Protocol, mail server address and port number is added \n",
    "smtp_server=smtplib.SMTP(\"smtp.gmail.com\",587)\n",
    "\n",
    "#elho is the hostname\n",
    "smtp_server.ehlo()\n",
    "smtp_server.starttls()\n",
    "smtp_server.ehlo()\n",
    "\n",
    "#logging into Email\n",
    "smtp_server.login(sender_add,password)\n",
    "message='''Hello receiver!'''\n",
    "\n",
    "#sending Email and message\n",
    "smtp_server.sendmail(sender_add,receiver_add,message)\n",
    "print('Successfully the mail is sent')\n",
    "\n",
    "#close the server\n",
    "smtp_server.quit()"
   ]
  },
  {
   "cell_type": "code",
   "execution_count": null,
   "id": "991a052e-c7c9-4994-9d05-0d91e1984c84",
   "metadata": {},
   "outputs": [],
   "source": []
  }
 ],
 "metadata": {
  "kernelspec": {
   "display_name": "Python 3 (ipykernel)",
   "language": "python",
   "name": "python3"
  },
  "language_info": {
   "codemirror_mode": {
    "name": "ipython",
    "version": 3
   },
   "file_extension": ".py",
   "mimetype": "text/x-python",
   "name": "python",
   "nbconvert_exporter": "python",
   "pygments_lexer": "ipython3",
   "version": "3.10.0"
  }
 },
 "nbformat": 4,
 "nbformat_minor": 5
}
