{
 "cells": [
  {
   "cell_type": "code",
   "execution_count": null,
   "id": "d29d6e7c-2a72-4686-bfad-2a1ea9302463",
   "metadata": {},
   "outputs": [
    {
     "name": "stderr",
     "output_type": "stream",
     "text": [
      " * Running on http://localhost:9000/ (Press CTRL+C to quit)\n",
      "127.0.0.1 - - [03/Dec/2021 21:07:57] \"GET / HTTP/1.1\" 404 -\n",
      "[2021-12-03 21:08:09,784] ERROR in app: Exception on /Products [GET]\n",
      "Traceback (most recent call last):\n",
      "  File \"C:\\Users\\cheta\\AppData\\Local\\Programs\\Python\\Python310\\lib\\site-packages\\flask\\app.py\", line 2073, in wsgi_app\n",
      "    response = self.full_dispatch_request()\n",
      "  File \"C:\\Users\\cheta\\AppData\\Local\\Programs\\Python\\Python310\\lib\\site-packages\\flask\\app.py\", line 1518, in full_dispatch_request\n",
      "    rv = self.handle_user_exception(e)\n",
      "  File \"C:\\Users\\cheta\\AppData\\Local\\Programs\\Python\\Python310\\lib\\site-packages\\flask\\app.py\", line 1516, in full_dispatch_request\n",
      "    rv = self.dispatch_request()\n",
      "  File \"C:\\Users\\cheta\\AppData\\Local\\Programs\\Python\\Python310\\lib\\site-packages\\flask\\app.py\", line 1502, in dispatch_request\n",
      "    return self.ensure_sync(self.view_functions[rule.endpoint])(**req.view_args)\n",
      "  File \"C:\\Users\\cheta\\AppData\\Local\\Temp/ipykernel_29356/37045683.py\", line 9, in home\n",
      "    return getAllProducts()\n",
      "  File \"C:\\Program Files\\python\\Examples\\Products.py\", line 28, in getAllProducts\n",
      "    return dumps(Products)\n",
      "  File \"C:\\Users\\cheta\\AppData\\Local\\Programs\\Python\\Python310\\lib\\site-packages\\bson\\json_util.py\", line 412, in dumps\n",
      "    return json.dumps(_json_convert(obj, json_options), *args, **kwargs)\n",
      "  File \"C:\\Users\\cheta\\AppData\\Local\\Programs\\Python\\Python310\\lib\\json\\__init__.py\", line 231, in dumps\n",
      "    return _default_encoder.encode(obj)\n",
      "  File \"C:\\Users\\cheta\\AppData\\Local\\Programs\\Python\\Python310\\lib\\json\\encoder.py\", line 199, in encode\n",
      "    chunks = self.iterencode(o, _one_shot=True)\n",
      "  File \"C:\\Users\\cheta\\AppData\\Local\\Programs\\Python\\Python310\\lib\\json\\encoder.py\", line 257, in iterencode\n",
      "    return _iterencode(o, 0)\n",
      "  File \"C:\\Users\\cheta\\AppData\\Local\\Programs\\Python\\Python310\\lib\\json\\encoder.py\", line 179, in default\n",
      "    raise TypeError(f'Object of type {o.__class__.__name__} '\n",
      "TypeError: Object of type function is not JSON serializable\n",
      "127.0.0.1 - - [03/Dec/2021 21:08:09] \"GET /Products HTTP/1.1\" 500 -\n"
     ]
    }
   ],
   "source": [
    "from werkzeug.wrappers import Request, Response\n",
    "from flask import Flask, jsonify, request\n",
    "from Products import getAllProducts\n",
    "app = Flask(__name__)\n",
    "@app.route('/Products', methods = ['GET', 'POST'])\n",
    "\n",
    "def home():\n",
    "    if(request.method == 'GET'):\n",
    "        return getAllProducts()\n",
    "if __name__ == '__main__':\n",
    "    from werkzeug.serving import run_simple\n",
    "    run_simple('localhost', 9000, app)"
   ]
  },
  {
   "cell_type": "code",
   "execution_count": null,
   "id": "1014de62-269b-42e1-843b-ba464d1a1afa",
   "metadata": {},
   "outputs": [],
   "source": []
  },
  {
   "cell_type": "code",
   "execution_count": null,
   "id": "558061ba-c3f9-4a7f-aaa3-3ddb905f219d",
   "metadata": {},
   "outputs": [],
   "source": []
  },
  {
   "cell_type": "code",
   "execution_count": null,
   "id": "8e219518-0de5-414b-8e9d-0b6d260976c3",
   "metadata": {},
   "outputs": [],
   "source": []
  },
  {
   "cell_type": "code",
   "execution_count": null,
   "id": "332a02ca-f3c8-4669-9926-99ebaa5db3a5",
   "metadata": {},
   "outputs": [],
   "source": []
  },
  {
   "cell_type": "code",
   "execution_count": null,
   "id": "f783dd01-874c-4dc5-81c9-8acc08c534c5",
   "metadata": {},
   "outputs": [],
   "source": []
  }
 ],
 "metadata": {
  "kernelspec": {
   "display_name": "Python 3 (ipykernel)",
   "language": "python",
   "name": "python3"
  },
  "language_info": {
   "codemirror_mode": {
    "name": "ipython",
    "version": 3
   },
   "file_extension": ".py",
   "mimetype": "text/x-python",
   "name": "python",
   "nbconvert_exporter": "python",
   "pygments_lexer": "ipython3",
   "version": "3.10.0"
  }
 },
 "nbformat": 4,
 "nbformat_minor": 5
}
