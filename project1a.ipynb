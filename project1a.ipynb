{
 "cells": [
  {
   "cell_type": "code",
   "execution_count": 1,
   "id": "3d118489-6b67-49c9-811b-7cc9643e66b0",
   "metadata": {},
   "outputs": [
    {
     "name": "stdout",
     "output_type": "stream",
     "text": [
      "['Students', 'admin', 'config', 'dtestmongo', 'local', 'student']\n"
     ]
    },
    {
     "data": {
      "text/plain": [
       "<pymongo.results.InsertManyResult at 0x21f2daa6b40>"
      ]
     },
     "execution_count": 1,
     "metadata": {},
     "output_type": "execute_result"
    }
   ],
   "source": [
    "#Pymongo is a driver to connect to Mongodb using python and import from MongoClient\n",
    "from pymongo import MongoClient\n",
    "\n",
    "#giving the client hostaddress and portnumber\n",
    "client=MongoClient('localhost',27017)\n",
    "\n",
    "#creating list of database\n",
    "print(client.list_database_names())\n",
    "\n",
    "#creating database and initialised as client\n",
    "db=client['Students']\n",
    "\n",
    "#creating collection and initialise as database\n",
    "collection=db.Studentsdetails\n",
    "\n",
    "#creating record with database name Student\n",
    "record=[{\n",
    "    'firstname':'Sanvi',\n",
    "    'lastname':'Patil',\n",
    "    'Sid':'09',\n",
    "    'course':'python'\n",
    "},{\n",
    "    'firstname':'Ritika',\n",
    "    'lastname':'Kumbar',\n",
    "    'Sid':'27',\n",
    "    'course':'software testing'\n",
    "},{\n",
    "    'firstname':'Vaishnavi',\n",
    "    'lastname':'Patil',\n",
    "    'Sid':'36',\n",
    "    'course':'java'\n",
    "}]\n",
    "    \n",
    "#inserting record\n",
    "collection.insert_many(record)"
   ]
  },
  {
   "cell_type": "code",
   "execution_count": 6,
   "id": "a1b910b1-44d6-454f-89c8-c5a8ee818056",
   "metadata": {},
   "outputs": [
    {
     "data": {
      "text/plain": [
       "{'_id': ObjectId('61a0e4abdfbc05b2f036a1c8'),\n",
       " 'firstname': 'Sanvi',\n",
       " 'lastname': 'Patil',\n",
       " 'Sid': '09',\n",
       " 'course': 'python'}"
      ]
     },
     "execution_count": 6,
     "metadata": {},
     "output_type": "execute_result"
    }
   ],
   "source": [
    "#simple way of querying\n",
    "collection.find_one()"
   ]
  },
  {
   "cell_type": "code",
   "execution_count": null,
   "id": "55ff0ad2-47a3-49b7-acff-e80824a06cc4",
   "metadata": {},
   "outputs": [],
   "source": []
  },
  {
   "cell_type": "code",
   "execution_count": null,
   "id": "c2387120-148d-4bad-a913-ce1245c76c75",
   "metadata": {},
   "outputs": [],
   "source": []
  },
  {
   "cell_type": "code",
   "execution_count": null,
   "id": "18d70f88-71cc-4ace-8f78-0f71dee3ced2",
   "metadata": {},
   "outputs": [],
   "source": []
  },
  {
   "cell_type": "code",
   "execution_count": null,
   "id": "e672562f-c100-4668-abc7-951de0879860",
   "metadata": {},
   "outputs": [],
   "source": []
  },
  {
   "cell_type": "code",
   "execution_count": null,
   "id": "b24cb2b3-de78-44cf-9d2c-9b2c40a8da3d",
   "metadata": {},
   "outputs": [],
   "source": []
  },
  {
   "cell_type": "code",
   "execution_count": null,
   "id": "36797b0c-ca96-4dd9-bb8e-1af21ce34d70",
   "metadata": {},
   "outputs": [],
   "source": []
  }
 ],
 "metadata": {
  "kernelspec": {
   "display_name": "Python 3 (ipykernel)",
   "language": "python",
   "name": "python3"
  },
  "language_info": {
   "codemirror_mode": {
    "name": "ipython",
    "version": 3
   },
   "file_extension": ".py",
   "mimetype": "text/x-python",
   "name": "python",
   "nbconvert_exporter": "python",
   "pygments_lexer": "ipython3",
   "version": "3.10.0"
  }
 },
 "nbformat": 4,
 "nbformat_minor": 5
}
